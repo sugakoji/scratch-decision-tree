{
 "cells": [
  {
   "cell_type": "markdown",
   "metadata": {},
   "source": [
    "# 自作ライブラリの読み込み"
   ]
  },
  {
   "cell_type": "code",
   "execution_count": 15,
   "metadata": {},
   "outputs": [],
   "source": [
    "import os\n",
    "import sys\n",
    "pardir = os.path.dirname(os.getcwd())\n",
    "sys.path.append(pardir)"
   ]
  },
  {
   "cell_type": "code",
   "execution_count": 16,
   "metadata": {},
   "outputs": [],
   "source": [
    "\n",
    "from script import  decision_tree\n",
    "\n",
    "model = decision_tree.Decision_tree()"
   ]
  },
  {
   "cell_type": "markdown",
   "metadata": {},
   "source": [
    "# 必要なライブラリ"
   ]
  },
  {
   "cell_type": "code",
   "execution_count": 17,
   "metadata": {},
   "outputs": [],
   "source": [
    "from sklearn import datasets\n",
    "import numpy as np\n",
    "import pandas as pd\n",
    "import matplotlib.pyplot as plt\n",
    "iris = datasets.load_iris()\n",
    "name = [\"_\".join(i.split(\" \")[:2]) for i in iris.feature_names]"
   ]
  },
  {
   "cell_type": "markdown",
   "metadata": {},
   "source": [
    "# データの可視化"
   ]
  },
  {
   "cell_type": "code",
   "execution_count": 18,
   "metadata": {},
   "outputs": [
    {
     "data": {
      "image/png": "[encoded data removed]",
      "text/plain": [
       "<matplotlib.figure.Figure at 0x1a1e14ba58>"
      ]
     },
     "metadata": {
      "needs_background": "light"
     },
     "output_type": "display_data"
    }
   ],
   "source": [
    "df = pd.DataFrame(iris.data, columns=name)\n",
    "df['target'] = iris.target\n",
    "df['target_label'] = iris.target_names[iris.target]\n",
    "\n",
    "fig = plt.figure() \n",
    "ax = plt.axes()\n",
    "\n",
    "for i in set(df[\"target\"]):\n",
    "    tmp = df[df[\"target\"] ==i]\n",
    "    ax.scatter(tmp[\"petal_width\"],tmp[\"petal_length\"])\n",
    "    \n",
    "ax.set_xlim([0,3])\n",
    "ax.set_ylim([0,10])\n",
    "\n",
    "plt.show()\n",
    "    "
   ]
  },
  {
   "cell_type": "markdown",
   "metadata": {},
   "source": [
    "# 決定境界の可視化\n",
    "\n",
    "決定境界の可視化は、http://www.dskomei.com/entry/2018/03/04/125249 を参考にさせてもらった。\n",
    "\n"
   ]
  },
  {
   "cell_type": "code",
   "execution_count": 19,
   "metadata": {},
   "outputs": [
    {
     "data": {
      "image/png": "[encoded data removed]",
      "text/plain": [
       "<matplotlib.figure.Figure at 0x1a1f1464e0>"
      ]
     },
     "metadata": {
      "needs_background": "light"
     },
     "output_type": "display_data"
    }
   ],
   "source": [
    "import numpy as np\n",
    "from sklearn import datasets\n",
    "from matplotlib.colors import ListedColormap\n",
    "from sklearn.model_selection import train_test_split\n",
    "import matplotlib.pyplot as plt\n",
    "from sklearn.tree import DecisionTreeClassifier\n",
    "import math\n",
    "\n",
    "\n",
    "x = iris.data\n",
    "y = iris.target\n",
    "\n",
    "\n",
    "data = datasets.load_iris()\n",
    "x_data = data.data\n",
    "y_data = data.target\n",
    "\n",
    "# 2変数だけを抽出\n",
    "# \n",
    "var_1 = 2\n",
    "var_2 = 3\n",
    "\n",
    "x_data = x_data[:, [var_1,var_2]]\n",
    "\n",
    "# データを学習用/テスト用に分割している\n",
    "x_train, x_test, y_train, y_test = train_test_split(x_data,\n",
    "                                                    y_data,\n",
    "                                                  test_size=0.2)\n",
    "\n",
    "fig = plt.figure() \n",
    "ax = plt.axes() \n",
    "\n",
    "# モデルの学習\n",
    "model = decision_tree.Decision_tree()\n",
    "model.train(x_train, y_train)\n",
    "\n",
    "\n",
    "resolution=0.01\n",
    "## 今回は被説明変数が3クラスのため散布図のマーカータイプと3種類の色を用意\n",
    "## クラスの種類数に応じて拡張していくのが良いでしょう\n",
    "markers = ('s', 'x', 'o')\n",
    "cmap = ListedColormap(('red', 'blue', 'green'))\n",
    "\n",
    "## 2変数の入力データの最小値から最大値まで引数resolutionの幅でメッシュを描く\n",
    "x1_min, x1_max = x[:, var_1].min()-1, x[:, var_1].max()+1\n",
    "x2_min, x2_max = x[:, var_2].min()-1, x[:, var_2].max()+1\n",
    "x1_mesh, x2_mesh = np.meshgrid(np.arange(x1_min, x1_max, resolution),\n",
    "                               np.arange(x2_min, x2_max, resolution))\n",
    "\n",
    "## メッシュデータ全部を学習モデルで分類\n",
    "z = model.predict(np.array([x1_mesh.ravel(), x2_mesh.ravel()]).T)\n",
    "z = z.reshape(x1_mesh.shape)\n",
    "\n",
    "## メッシュデータと分離クラスを使って決定境界を描いている\n",
    "plt.contourf(x1_mesh, x2_mesh, z, alpha=0.3, cmap=cmap)\n",
    "plt.xlim(x1_mesh.min(), x1_mesh.max())\n",
    "plt.ylim(x2_mesh.min(), x2_mesh.max())\n",
    "\n",
    "for idx, cl in enumerate(np.unique(y)):\n",
    "    plt.scatter(x=x[y == cl, var_1],\n",
    "                y=x[y == cl, var_2],\n",
    "                alpha=0.6,\n",
    "                c=cmap(idx),\n",
    "                edgecolors='black',\n",
    "                marker=markers[idx],\n",
    "                label=cl)\n",
    "ax.set_title('decision tree')\n",
    "\n",
    "\n",
    "plt.tight_layout()\n",
    "plt.show()"
   ]
  },
  {
   "cell_type": "code",
   "execution_count": null,
   "metadata": {},
   "outputs": [],
   "source": []
  },
  {
   "cell_type": "code",
   "execution_count": null,
   "metadata": {},
   "outputs": [],
   "source": []
  },
  {
   "cell_type": "code",
   "execution_count": null,
   "metadata": {},
   "outputs": [],
   "source": []
  },
  {
   "cell_type": "code",
   "execution_count": null,
   "metadata": {},
   "outputs": [],
   "source": []
  }
 ],
 "metadata": {
  "kernelspec": {
   "display_name": "Python 3",
   "language": "python",
   "name": "python3"
  },
  "language_info": {
   "codemirror_mode": {
    "name": "ipython",
    "version": 3
   },
   "file_extension": ".py",
   "mimetype": "text/x-python",
   "name": "python",
   "nbconvert_exporter": "python",
   "pygments_lexer": "ipython3",
   "version": "3.6.8"
  },
  "toc": {
   "colors": {
    "hover_highlight": "#DAA520",
    "navigate_num": "#000000",
    "navigate_text": "#333333",
    "running_highlight": "#FF0000",
    "selected_highlight": "#FFD700",
    "sidebar_border": "#EEEEEE",
    "wrapper_background": "#FFFFFF"
   },
   "moveMenuLeft": true,
   "nav_menu": {
    "height": "11px",
    "width": "252px"
   },
   "navigate_menu": true,
   "number_sections": true,
   "sideBar": true,
   "threshold": 4,
   "toc_cell": false,
   "toc_section_display": "block",
   "toc_window_display": false,
   "widenNotebook": false
  }
 },
 "nbformat": 4,
 "nbformat_minor": 2
}
