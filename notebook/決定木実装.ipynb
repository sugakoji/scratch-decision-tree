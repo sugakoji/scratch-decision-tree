{
 "cells": [
  {
   "cell_type": "markdown",
   "metadata": {},
   "source": [
    "# ライブラリ"
   ]
  },
  {
   "cell_type": "code",
   "execution_count": null,
   "metadata": {},
   "outputs": [],
   "source": [
    "from sklearn import datasets\n",
    "import numpy as np\n",
    "import pandas as pd\n",
    "import matplotlib.pyplot as plt\n",
    "iris = datasets.load_iris()\n",
    "name = [\"_\".join(i.split(\" \")[:2]) for i in iris.feature_names]\n",
    "\n",
    "df = pd.DataFrame(iris.data, columns=name)\n",
    "df['target'] = iris.target\n",
    "df['target_label'] = iris.target_names[iris.target]"
   ]
  },
  {
   "cell_type": "code",
   "execution_count": 6,
   "metadata": {},
   "outputs": [],
   "source": [
    "x = iris.data\n",
    "y = iris.target"
   ]
  },
  {
   "cell_type": "code",
   "execution_count": 7,
   "metadata": {},
   "outputs": [
    {
     "data": {
      "image/png": "[encoded data removed]",
      "text/plain": [
       "<matplotlib.figure.Figure at 0x104defd30>"
      ]
     },
     "metadata": {
      "needs_background": "light"
     },
     "output_type": "display_data"
    }
   ],
   "source": [
    "fig = plt.figure() \n",
    "ax = plt.axes()\n",
    "\n",
    "for i in set(df[\"target\"]):\n",
    "    tmp = df[df[\"target\"] ==i]\n",
    "    ax.scatter(tmp[\"petal_width\"],tmp[\"petal_length\"])\n",
    "    \n",
    "ax.set_xlim([0,3])\n",
    "ax.set_ylim([0,10])\n",
    "\n",
    "plt.show()\n",
    "    "
   ]
  },
  {
   "cell_type": "code",
   "execution_count": 8,
   "metadata": {},
   "outputs": [],
   "source": [
    "def gini(y):\n",
    "    _,counts = np.unique(y, return_counts=True)\n",
    "    return 1 - np.sum((counts/np.sum(counts))**2)\n",
    "    \n",
    "    \n",
    "def info_gain(y_1,y_2,y_3):\n",
    "    parents_gini = gini(y_1)\n",
    "    right_chi_gini = gini(y_2)\n",
    "    left_chi_gini = gini(y_3)\n",
    "    \n",
    "    return parents_gini - len(y_2)/len(y_1)* right_chi_gini -len(y_3)/len(y_1)*left_chi_gini\n",
    "\n",
    "def choose_node(x,y):\n",
    "    best_feature,best_thread,best_ig= 0,0,0\n",
    "    \n",
    "    for feature in range(x.shape[1]):\n",
    "        target_x = x[:,feature]\n",
    "        indexer = target_x.argsort()\n",
    "\n",
    "        _x = target_x[indexer]\n",
    "        _y = y[indexer]\n",
    "\n",
    "        arr = np.sort(np.unique(target_x))\n",
    "        split_point = (arr[1:]+ arr[:-1])/2\n",
    "        \n",
    "        for sp in split_point:\n",
    "            left = _y[_x < sp]\n",
    "            right = _y[_x >= sp]\n",
    "            \n",
    "            ig = info_gain(_y,left,right)\n",
    "            \n",
    "            if ig > best_ig:\n",
    "                best_feature,best_thread,best_ig = feature, sp, ig\n",
    "                    \n",
    "        \n",
    "    return best_feature,best_thread,best_ig\n"
   ]
  },
  {
   "cell_type": "code",
   "execution_count": 9,
   "metadata": {},
   "outputs": [],
   "source": [
    "\n",
    "class Tree_node:\n",
    "    \"\"\"\n",
    "    ノードクラスの実装\n",
    "    \n",
    "    \"\"\"\n",
    "    def __init__(self, label, left=None, right=None):\n",
    "        \n",
    "        \n",
    "        if label[\"terminal\"]:\n",
    "            self.label = None\n",
    "            self.node = label[\"leaf\"]\n",
    "            self.thread_hold = None\n",
    "            self.left = None\n",
    "            self.right = None\n",
    "            self.terminal = label[\"terminal\"]\n",
    "            self.depth = label[\"depth\"] + 1\n",
    "            \n",
    "        else:\n",
    "            self.label = label[\"feature\"]\n",
    "            self.label_name = name[label[\"feature\"]]\n",
    "            self.node = np.concatenate((label[\"left_y\"], label[\"left_y\"]), axis=0)\n",
    "            self.thread_hold = np.round(label[\"thread\"], 2)  # ノードの値を設定。\n",
    "            self.left = left  #  左の枝につながるノードを設定。\n",
    "            self.right = right  # 右の枝につながるノードを設定。\n",
    "            self.terminal = label[\"terminal\"]\n",
    "            self.depth = label[\"depth\"] + 1\n",
    "\n",
    "    def __repr__(self, level=0):\n",
    "        if level == 0:\n",
    "            prefix = \"\"\n",
    "        else:\n",
    "            prefix = level*\"   \" + \"└\"\n",
    "        \n",
    "        s = \"\" if self.terminal else prefix +\"IF \" + \"({})_\".format(self.depth)+ \"{}\".format(self.label_name) + \" > {}\".format(self.thread_hold)\n",
    "        if self.left:  \n",
    "            s = s + \"\\n\" + self.left.__repr__(level+1) \n",
    "        if self.right: \n",
    "            s = s + \"\\n\" + self.right.__repr__(level+1) \n",
    "        return s  \n",
    "    \n",
    "    def _vote(self,data):\n",
    "        if self.left is None and self.right is None:\n",
    "            return np.argmax(np.bincount(self.node))\n",
    "        elif self.thread_hold > data[self.label]:\n",
    "            return self.left._vote(data)\n",
    "        else:\n",
    "            return self.right._vote(data)\n",
    "                  \n",
    "            \n",
    "            \n",
    "            \n",
    "        "
   ]
  },
  {
   "cell_type": "code",
   "execution_count": 13,
   "metadata": {},
   "outputs": [],
   "source": [
    "class Decision_tree():\n",
    "    \n",
    "    def __init__(self,max_depth = 3):\n",
    "        \n",
    "        self.max_depth = max_depth\n",
    "        self.model = None\n",
    "        \n",
    "    def __repr__(self):\n",
    "        if self.model is not None:\n",
    "            return self.model.__repr__()\n",
    "        \n",
    "    def build_tree(self, x,y,depth = 0):  # 引数のリストから二分木を作成する関数。\n",
    "    \n",
    "       # ここでノードの分割を決める。\n",
    "        feature, thread, ig = choose_node(x,y)\n",
    "\n",
    "        #ここで木の成長がどこで止まるかを計算する\n",
    "        if  depth == self.max_depth:\n",
    "            return Tree_node(label={\"leaf\":y,\n",
    "                           \"terminal\":True,\n",
    "                            \"depth\":depth})\n",
    "        # 閾値を下回ったら、左へ送る。\n",
    "        left_x, left_y = x[x[:,feature] < thread], y[x[:,feature] < thread]\n",
    "        right_x, right_y = x[x[:,feature] > thread], y[x[:,feature] > thread]\n",
    "\n",
    "        return Tree_node(label={\"feature\":feature, \n",
    "                           \"thread\":thread, \n",
    "                           \"left_y\":left_y,\n",
    "                           \"right_y\":right_y,\n",
    "                           \"terminal\":False,\n",
    "                          \"depth\":depth},\n",
    "                    left=self.build_tree(left_x, left_y,depth = depth +1), \n",
    "                    right=self.build_tree(right_x, right_y ,depth= depth +1))  # i番目の要素を値に持つノードインスタンスを生成。\n",
    "\n",
    "    def train(self, data,y):\n",
    "        self.model = self.build_tree(data,y)\n",
    "        \n",
    "    \n",
    "    def predict(self,data):\n",
    "        result = []\n",
    "        for d in data:\n",
    "            result.append(self.model._vote(d))\n",
    "        return np.array(result)\n",
    "\n",
    "\n",
    "    "
   ]
  },
  {
   "cell_type": "code",
   "execution_count": 14,
   "metadata": {},
   "outputs": [],
   "source": [
    "model = Decision_tree()\n",
    "\n",
    "model.train(iris.data,iris.target)\n",
    "\n"
   ]
  },
  {
   "cell_type": "code",
   "execution_count": 15,
   "metadata": {},
   "outputs": [
    {
     "data": {
      "text/plain": [
       "IF (1)_petal_length > 2.45\n",
       "   └IF (2)_sepal_length > 0\n",
       "      └IF (3)_sepal_length > 0\n",
       "\n",
       "\n",
       "      └IF (3)_sepal_length > 0\n",
       "\n",
       "\n",
       "   └IF (2)_petal_width > 1.75\n",
       "      └IF (3)_petal_length > 4.95\n",
       "\n",
       "\n",
       "      └IF (3)_petal_length > 4.85\n"
      ]
     },
     "execution_count": 15,
     "metadata": {},
     "output_type": "execute_result"
    }
   ],
   "source": [
    "model"
   ]
  },
  {
   "cell_type": "code",
   "execution_count": 16,
   "metadata": {},
   "outputs": [
    {
     "data": {
      "text/plain": [
       "array([0, 0, 0, 0, 0, 0, 0, 0, 0, 0, 0, 0, 0, 0, 0, 0, 0, 0, 0, 0, 0, 0, 0,\n",
       "       0, 0, 0, 0, 0, 0, 0, 0, 0, 0, 0, 0, 0, 0, 0, 0, 0, 0, 0, 0, 0, 0, 0,\n",
       "       0, 0, 0, 0, 1, 1, 1, 1, 1, 1, 1, 1, 1, 1, 1, 1, 1, 1, 1, 1, 1, 1, 1,\n",
       "       1, 2, 1, 1, 1, 1, 1, 1, 2, 1, 1, 1, 1, 1, 2, 1, 1, 1, 1, 1, 1, 1, 1,\n",
       "       1, 1, 1, 1, 1, 1, 1, 1, 2, 2, 2, 2, 2, 2, 1, 2, 2, 2, 2, 2, 2, 2, 2,\n",
       "       2, 2, 2, 2, 2, 2, 2, 2, 2, 2, 2, 2, 2, 2, 2, 2, 2, 2, 2, 2, 2, 2, 2,\n",
       "       2, 2, 2, 2, 2, 2, 2, 2, 2, 2, 2, 2])"
      ]
     },
     "execution_count": 16,
     "metadata": {},
     "output_type": "execute_result"
    }
   ],
   "source": [
    "model.predict(x)"
   ]
  },
  {
   "cell_type": "code",
   "execution_count": null,
   "metadata": {},
   "outputs": [],
   "source": []
  },
  {
   "cell_type": "code",
   "execution_count": 25,
   "metadata": {},
   "outputs": [
    {
     "data": {
      "image/png": "[encoded data removed]",
      "text/plain": [
       "<matplotlib.figure.Figure at 0x1a1958c2b0>"
      ]
     },
     "metadata": {
      "needs_background": "light"
     },
     "output_type": "display_data"
    }
   ],
   "source": [
    "import numpy as np\n",
    "from sklearn import datasets\n",
    "from matplotlib.colors import ListedColormap\n",
    "from sklearn.model_selection import train_test_split\n",
    "import matplotlib.pyplot as plt\n",
    "from sklearn.tree import DecisionTreeClassifier\n",
    "import math\n",
    "\n",
    "\n",
    "\n",
    "\n",
    "\n",
    "data = datasets.load_iris()\n",
    "x_data = data.data\n",
    "y_data = data.target\n",
    "\n",
    "# 2変数だけを抽出\n",
    "# \n",
    "var_1 = 2\n",
    "var_2 = 3\n",
    "\n",
    "x_data = x_data[:, [var_1,var_2]]\n",
    "\n",
    "# 入力データの各変数が平均0,標準偏差1になるように正規化\n",
    "# 各アルゴリズムのプロット結果を比較しやすいように予め全入力データを正規化\n",
    "\n",
    "# データを学習用/テスト用に分割している\n",
    "x_train, x_test, y_train, y_test = train_test_split(x_data,\n",
    "                                                    y_data,\n",
    "                                                    test_size=0.2)\n",
    "\n",
    "o\n",
    "fig = plt.figure() \n",
    "ax = plt.axes() \n",
    "\n",
    "# モデルの学習\n",
    "\n",
    "model = Decision_tree()\n",
    "\n",
    "model.train(x_train, y_train)\n",
    "\n",
    "\n",
    "\n",
    "resolution=0.01\n",
    "## 今回は被説明変数が3クラスのため散布図のマーカータイプと3種類の色を用意\n",
    "## クラスの種類数に応じて拡張していくのが良いでしょう\n",
    "markers = ('s', 'x', 'o')\n",
    "cmap = ListedColormap(('red', 'blue', 'green'))\n",
    "\n",
    "## 2変数の入力データの最小値から最大値まで引数resolutionの幅でメッシュを描く\n",
    "x1_min, x1_max = x[:, var_1].min()-1, x[:, var_1].max()+1\n",
    "x2_min, x2_max = x[:, var_2].min()-1, x[:, var_2].max()+1\n",
    "x1_mesh, x2_mesh = np.meshgrid(np.arange(x1_min, x1_max, resolution),\n",
    "                               np.arange(x2_min, x2_max, resolution))\n",
    "\n",
    "## メッシュデータ全部を学習モデルで分類\n",
    "z = model.predict(np.array([x1_mesh.ravel(), x2_mesh.ravel()]).T)\n",
    "z = z.reshape(x1_mesh.shape)\n",
    "\n",
    "## メッシュデータと分離クラスを使って決定境界を描いている\n",
    "plt.contourf(x1_mesh, x2_mesh, z, alpha=0.3, cmap=cmap)\n",
    "plt.xlim(x1_mesh.min(), x1_mesh.max())\n",
    "plt.ylim(x2_mesh.min(), x2_mesh.max())\n",
    "\n",
    "for idx, cl in enumerate(np.unique(y)):\n",
    "    plt.scatter(x=x[y == cl, var_1],\n",
    "                y=x[y == cl, var_2],\n",
    "                alpha=0.6,\n",
    "                c=cmap(idx),\n",
    "                edgecolors='black',\n",
    "                marker=markers[idx],\n",
    "                label=cl)\n",
    "ax.set_title('decision tree')\n",
    "\n",
    "\n",
    "plt.tight_layout()\n",
    "\n",
    "plt.show()"
   ]
  },
  {
   "cell_type": "code",
   "execution_count": null,
   "metadata": {},
   "outputs": [],
   "source": []
  },
  {
   "cell_type": "code",
   "execution_count": null,
   "metadata": {},
   "outputs": [],
   "source": []
  }
 ],
 "metadata": {
  "kernelspec": {
   "display_name": "Python 3",
   "language": "python",
   "name": "python3"
  },
  "language_info": {
   "codemirror_mode": {
    "name": "ipython",
    "version": 3
   },
   "file_extension": ".py",
   "mimetype": "text/x-python",
   "name": "python",
   "nbconvert_exporter": "python",
   "pygments_lexer": "ipython3",
   "version": "3.6.8"
  },
  "toc": {
   "colors": {
    "hover_highlight": "#DAA520",
    "navigate_num": "#000000",
    "navigate_text": "#333333",
    "running_highlight": "#FF0000",
    "selected_highlight": "#FFD700",
    "sidebar_border": "#EEEEEE",
    "wrapper_background": "#FFFFFF"
   },
   "moveMenuLeft": true,
   "nav_menu": {
    "height": "11px",
    "width": "252px"
   },
   "navigate_menu": true,
   "number_sections": true,
   "sideBar": true,
   "threshold": 4.0,
   "toc_cell": false,
   "toc_section_display": "block",
   "toc_window_display": false,
   "widenNotebook": false
  }
 },
 "nbformat": 4,
 "nbformat_minor": 2
}
